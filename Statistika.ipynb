{
 "cells": [
  {
   "cell_type": "code",
   "execution_count": 2,
   "id": "536304d8-2109-4ae9-8a9d-eda1bc0a9d7f",
   "metadata": {},
   "outputs": [],
   "source": [
    "import numpy as np\n",
    "import pandas as pd"
   ]
  },
  {
   "cell_type": "code",
   "execution_count": 3,
   "id": "ffcf50a2-2d33-46bc-ada0-0f6c1135f885",
   "metadata": {},
   "outputs": [],
   "source": [
    "np.random.seed(42)\n",
    "num_assets = 5  # Number of assets\n",
    "num_days = 100  # Number of trading days"
   ]
  },
  {
   "cell_type": "code",
   "execution_count": 4,
   "id": "79561231-b4c4-47ec-98cc-1d8becbf5d9c",
   "metadata": {},
   "outputs": [],
   "source": [
    "\n",
    "returns = np.random.normal(loc=0.005, scale=0.02, size=(num_days, num_assets))\n",
    "\n",
    "volumes = np.random.randint(1000, 10000, size=(num_days, num_assets))"
   ]
  },
  {
   "cell_type": "code",
   "execution_count": 5,
   "id": "3bfe8065-a6bc-48c9-a17c-9af0a2278742",
   "metadata": {},
   "outputs": [],
   "source": [
    "columns = [f\"Asset_{i+1}\" for i in range(num_assets)]\n",
    "financial_data = pd.DataFrame(returns, columns=columns)\n",
    "financial_data['Date'] = pd.date_range(start=\"2023-01-01\", periods=num_days)\n",
    "financial_data.set_index('Date', inplace=True)\n"
   ]
  },
  {
   "cell_type": "code",
   "execution_count": 6,
   "id": "2758c101-9cf6-4302-b435-8f50dabe46e0",
   "metadata": {},
   "outputs": [
    {
     "name": "stdout",
     "output_type": "stream",
     "text": [
      "             Asset_1   Asset_2   Asset_3   Asset_4   Asset_5  Asset_1_Volume  \\\n",
      "Date                                                                           \n",
      "2023-01-01  0.014934  0.002235  0.017954  0.035461  0.000317            6401   \n",
      "2023-01-02  0.000317  0.036584  0.020349 -0.004389  0.015851            2733   \n",
      "2023-01-03 -0.004268 -0.004315  0.009839 -0.033266 -0.029498            4517   \n",
      "2023-01-04 -0.006246 -0.015257  0.011285 -0.013160 -0.023246            5324   \n",
      "2023-01-05  0.034313  0.000484  0.006351 -0.023495 -0.005888            9195   \n",
      "\n",
      "            Asset_2_Volume  Asset_3_Volume  Asset_4_Volume  Asset_5_Volume  \n",
      "Date                                                                        \n",
      "2023-01-01            2761            1876            4812            2460  \n",
      "2023-01-02            2605            6622            7767            7986  \n",
      "2023-01-03            4735            9434            3590            2063  \n",
      "2023-01-04            6342            1005            8489            9659  \n",
      "2023-01-05            6966            9837            1117            3551  \n"
     ]
    }
   ],
   "source": [
    "\n",
    "for i, col in enumerate(columns):\n",
    "    financial_data[f\"{col}_Volume\"] = volumes[:, i]\n",
    "\n",
    "print(financial_data.head())"
   ]
  },
  {
   "cell_type": "code",
   "execution_count": 7,
   "id": "af12d19a-4895-475b-8bb8-37387cb3ac43",
   "metadata": {},
   "outputs": [
    {
     "name": "stdout",
     "output_type": "stream",
     "text": [
      "Sample with Replacement:\n",
      "             Asset_1   Asset_2   Asset_3   Asset_4   Asset_5  Asset_1_Volume  \\\n",
      "Date                                                                           \n",
      "2023-02-04 -0.012790 -0.011316  0.003458  0.011823  0.010534            6031   \n",
      "2023-02-19 -0.001690 -0.004499 -0.008067  0.040309  0.013100            7722   \n",
      "2023-03-23  0.017457 -0.016352  0.002152  0.007406  0.015289            8124   \n",
      "2023-03-03  0.007347  0.030553 -0.006831  0.015942  0.000956            1074   \n",
      "2023-01-17  0.000607  0.012142  0.034558 -0.005365 -0.011170            2065   \n",
      "\n",
      "            Asset_2_Volume  Asset_3_Volume  Asset_4_Volume  Asset_5_Volume  \n",
      "Date                                                                        \n",
      "2023-02-04            3708            8112            9393            4507  \n",
      "2023-02-19            8218            8776            4675            4054  \n",
      "2023-03-23            4157            1390            5430            9820  \n",
      "2023-03-03            7981            6475            9232            8184  \n",
      "2023-01-17            3136            7943            8804            7565  \n",
      "\n",
      "Sample without Replacement:\n",
      "             Asset_1   Asset_2   Asset_3   Asset_4   Asset_5  Asset_1_Volume  \\\n",
      "Date                                                                           \n",
      "2023-02-22 -0.013539  0.003809 -0.059825 -0.015488 -0.000051            1943   \n",
      "2023-03-22 -0.026889 -0.006988  0.005105  0.005940 -0.004001            9238   \n",
      "2023-02-04 -0.012790 -0.011316  0.003458  0.011823  0.010534            6031   \n",
      "2023-02-20 -0.020218  0.023357  0.047443  0.025649 -0.025387            8970   \n",
      "2023-04-03  0.044295  0.005705 -0.008995  0.009280  0.002753            3050   \n",
      "\n",
      "            Asset_2_Volume  Asset_3_Volume  Asset_4_Volume  Asset_5_Volume  \n",
      "Date                                                                        \n",
      "2023-02-22            7150            5425            9966            3198  \n",
      "2023-03-22            5873            5806            9592            6913  \n",
      "2023-02-04            3708            8112            9393            4507  \n",
      "2023-02-20            3143            6207            3538            5547  \n",
      "2023-04-03            2165            9567            3033            7467  \n"
     ]
    }
   ],
   "source": [
    "\n",
    "sample_with_replacement = financial_data.sample(n=10, replace=True)\n",
    "\n",
    "sample_without_replacement = financial_data.sample(n=10, replace=False)\n",
    "\n",
    "print(\"Sample with Replacement:\")\n",
    "print(sample_with_replacement.head())\n",
    "\n",
    "print(\"\\nSample without Replacement:\")\n",
    "print(sample_without_replacement.head())\n"
   ]
  },
  {
   "cell_type": "code",
   "execution_count": 8,
   "id": "044f33c9-045a-407a-803f-167ab4ff2e4c",
   "metadata": {},
   "outputs": [
    {
     "data": {
      "text/html": [
       "<div>\n",
       "<style scoped>\n",
       "    .dataframe tbody tr th:only-of-type {\n",
       "        vertical-align: middle;\n",
       "    }\n",
       "\n",
       "    .dataframe tbody tr th {\n",
       "        vertical-align: top;\n",
       "    }\n",
       "\n",
       "    .dataframe thead th {\n",
       "        text-align: right;\n",
       "    }\n",
       "</style>\n",
       "<table border=\"1\" class=\"dataframe\">\n",
       "  <thead>\n",
       "    <tr style=\"text-align: right;\">\n",
       "      <th></th>\n",
       "      <th>Asset_1</th>\n",
       "      <th>Asset_2</th>\n",
       "      <th>Asset_3</th>\n",
       "      <th>Asset_4</th>\n",
       "      <th>Asset_5</th>\n",
       "      <th>Asset_1_Volume</th>\n",
       "      <th>Asset_2_Volume</th>\n",
       "      <th>Asset_3_Volume</th>\n",
       "      <th>Asset_4_Volume</th>\n",
       "      <th>Asset_5_Volume</th>\n",
       "    </tr>\n",
       "  </thead>\n",
       "  <tbody>\n",
       "    <tr>\n",
       "      <th>count</th>\n",
       "      <td>10.000000</td>\n",
       "      <td>10.000000</td>\n",
       "      <td>10.000000</td>\n",
       "      <td>10.000000</td>\n",
       "      <td>10.000000</td>\n",
       "      <td>10.000000</td>\n",
       "      <td>10.000000</td>\n",
       "      <td>10.000000</td>\n",
       "      <td>10.000000</td>\n",
       "      <td>10.000000</td>\n",
       "    </tr>\n",
       "    <tr>\n",
       "      <th>mean</th>\n",
       "      <td>0.000411</td>\n",
       "      <td>0.012199</td>\n",
       "      <td>0.001640</td>\n",
       "      <td>-0.004219</td>\n",
       "      <td>0.007794</td>\n",
       "      <td>5792.600000</td>\n",
       "      <td>5587.500000</td>\n",
       "      <td>6449.600000</td>\n",
       "      <td>5226.700000</td>\n",
       "      <td>6989.600000</td>\n",
       "    </tr>\n",
       "    <tr>\n",
       "      <th>std</th>\n",
       "      <td>0.008912</td>\n",
       "      <td>0.022182</td>\n",
       "      <td>0.016496</td>\n",
       "      <td>0.022944</td>\n",
       "      <td>0.018128</td>\n",
       "      <td>3167.826111</td>\n",
       "      <td>1974.123842</td>\n",
       "      <td>2363.059279</td>\n",
       "      <td>2877.612631</td>\n",
       "      <td>2607.095498</td>\n",
       "    </tr>\n",
       "    <tr>\n",
       "      <th>min</th>\n",
       "      <td>-0.012790</td>\n",
       "      <td>-0.016352</td>\n",
       "      <td>-0.022602</td>\n",
       "      <td>-0.033266</td>\n",
       "      <td>-0.029498</td>\n",
       "      <td>1074.000000</td>\n",
       "      <td>3136.000000</td>\n",
       "      <td>1390.000000</td>\n",
       "      <td>1920.000000</td>\n",
       "      <td>2063.000000</td>\n",
       "    </tr>\n",
       "    <tr>\n",
       "      <th>25%</th>\n",
       "      <td>-0.004505</td>\n",
       "      <td>-0.004453</td>\n",
       "      <td>-0.007758</td>\n",
       "      <td>-0.018900</td>\n",
       "      <td>0.001689</td>\n",
       "      <td>2678.000000</td>\n",
       "      <td>4209.750000</td>\n",
       "      <td>5197.750000</td>\n",
       "      <td>2994.500000</td>\n",
       "      <td>5063.250000</td>\n",
       "    </tr>\n",
       "    <tr>\n",
       "      <th>50%</th>\n",
       "      <td>-0.000542</td>\n",
       "      <td>0.006715</td>\n",
       "      <td>0.002805</td>\n",
       "      <td>-0.008796</td>\n",
       "      <td>0.011817</td>\n",
       "      <td>6876.500000</td>\n",
       "      <td>4632.500000</td>\n",
       "      <td>6471.500000</td>\n",
       "      <td>4155.000000</td>\n",
       "      <td>7874.500000</td>\n",
       "    </tr>\n",
       "    <tr>\n",
       "      <th>75%</th>\n",
       "      <td>0.006072</td>\n",
       "      <td>0.033587</td>\n",
       "      <td>0.009016</td>\n",
       "      <td>0.010719</td>\n",
       "      <td>0.017420</td>\n",
       "      <td>8178.000000</td>\n",
       "      <td>7580.500000</td>\n",
       "      <td>8069.750000</td>\n",
       "      <td>7960.500000</td>\n",
       "      <td>9012.500000</td>\n",
       "    </tr>\n",
       "    <tr>\n",
       "      <th>max</th>\n",
       "      <td>0.017457</td>\n",
       "      <td>0.042315</td>\n",
       "      <td>0.034558</td>\n",
       "      <td>0.040309</td>\n",
       "      <td>0.035462</td>\n",
       "      <td>9567.000000</td>\n",
       "      <td>8218.000000</td>\n",
       "      <td>9434.000000</td>\n",
       "      <td>9393.000000</td>\n",
       "      <td>9820.000000</td>\n",
       "    </tr>\n",
       "  </tbody>\n",
       "</table>\n",
       "</div>"
      ],
      "text/plain": [
       "         Asset_1    Asset_2    Asset_3    Asset_4    Asset_5  Asset_1_Volume  \\\n",
       "count  10.000000  10.000000  10.000000  10.000000  10.000000       10.000000   \n",
       "mean    0.000411   0.012199   0.001640  -0.004219   0.007794     5792.600000   \n",
       "std     0.008912   0.022182   0.016496   0.022944   0.018128     3167.826111   \n",
       "min    -0.012790  -0.016352  -0.022602  -0.033266  -0.029498     1074.000000   \n",
       "25%    -0.004505  -0.004453  -0.007758  -0.018900   0.001689     2678.000000   \n",
       "50%    -0.000542   0.006715   0.002805  -0.008796   0.011817     6876.500000   \n",
       "75%     0.006072   0.033587   0.009016   0.010719   0.017420     8178.000000   \n",
       "max     0.017457   0.042315   0.034558   0.040309   0.035462     9567.000000   \n",
       "\n",
       "       Asset_2_Volume  Asset_3_Volume  Asset_4_Volume  Asset_5_Volume  \n",
       "count       10.000000       10.000000       10.000000       10.000000  \n",
       "mean      5587.500000     6449.600000     5226.700000     6989.600000  \n",
       "std       1974.123842     2363.059279     2877.612631     2607.095498  \n",
       "min       3136.000000     1390.000000     1920.000000     2063.000000  \n",
       "25%       4209.750000     5197.750000     2994.500000     5063.250000  \n",
       "50%       4632.500000     6471.500000     4155.000000     7874.500000  \n",
       "75%       7580.500000     8069.750000     7960.500000     9012.500000  \n",
       "max       8218.000000     9434.000000     9393.000000     9820.000000  "
      ]
     },
     "execution_count": 8,
     "metadata": {},
     "output_type": "execute_result"
    }
   ],
   "source": [
    "sample_with_replacement.describe()"
   ]
  },
  {
   "cell_type": "code",
   "execution_count": 9,
   "id": "3a2d63f9-228a-4147-a202-4afd34c3f0f1",
   "metadata": {},
   "outputs": [
    {
     "name": "stdout",
     "output_type": "stream",
     "text": [
      "t-Statistic: -0.9124, p-Value: 0.3627\n",
      "Fail to reject the null hypothesis: No significant difference in mean returns of Asset_1 and Asset_2.\n"
     ]
    }
   ],
   "source": [
    "from scipy.stats import ttest_ind\n",
    "\n",
    "# Perform t-test on returns of Asset_1 and Asset_2\n",
    "t_stat, p_value = ttest_ind(financial_data['Asset_1'], financial_data['Asset_2'])\n",
    "\n",
    "print(f\"t-Statistic: {t_stat:.4f}, p-Value: {p_value:.4f}\")\n",
    "\n",
    "# Interpretation\n",
    "if p_value < 0.05:\n",
    "    print(\"Reject the null hypothesis: The mean returns of Asset_1 and Asset_2 are significantly different.\")\n",
    "else:\n",
    "    print(\"Fail to reject the null hypothesis: No significant difference in mean returns of Asset_1 and Asset_2.\")\n"
   ]
  },
  {
   "cell_type": "code",
   "execution_count": 10,
   "id": "48b9978f-9b14-47bf-a162-5ff9e9426b5c",
   "metadata": {},
   "outputs": [
    {
     "name": "stdout",
     "output_type": "stream",
     "text": [
      "Chi-Squared Statistic: 1.0109, p-Value: 0.9081, Degrees of Freedom: 4\n",
      "Fail to reject the null hypothesis: The trading volumes of Asset_1 and Asset_2 are independent.\n"
     ]
    }
   ],
   "source": [
    "from scipy.stats import chi2_contingency\n",
    "\n",
    "# Create contingency table for volumes\n",
    "contingency_table = pd.crosstab(\n",
    "    pd.cut(financial_data['Asset_1_Volume'], bins=3, labels=[\"Low\", \"Medium\", \"High\"]),\n",
    "    pd.cut(financial_data['Asset_2_Volume'], bins=3, labels=[\"Low\", \"Medium\", \"High\"])\n",
    ")\n",
    "\n",
    "# Perform chi-squared test\n",
    "chi2_stat, p_value, dof, expected = chi2_contingency(contingency_table)\n",
    "\n",
    "print(f\"Chi-Squared Statistic: {chi2_stat:.4f}, p-Value: {p_value:.4f}, Degrees of Freedom: {dof}\")\n",
    "\n",
    "# Interpretation\n",
    "if p_value < 0.05:\n",
    "    print(\"Reject the null hypothesis: The trading volumes of Asset_1 and Asset_2 are not independent.\")\n",
    "else:\n",
    "    print(\"Fail to reject the null hypothesis: The trading volumes of Asset_1 and Asset_2 are independent.\")\n"
   ]
  },
  {
   "cell_type": "code",
   "execution_count": 13,
   "id": "194bcc76-4fb6-4316-b71a-32e1d4b0ff46",
   "metadata": {},
   "outputs": [
    {
     "data": {
      "text/html": [
       "<div>\n",
       "<style scoped>\n",
       "    .dataframe tbody tr th:only-of-type {\n",
       "        vertical-align: middle;\n",
       "    }\n",
       "\n",
       "    .dataframe tbody tr th {\n",
       "        vertical-align: top;\n",
       "    }\n",
       "\n",
       "    .dataframe thead th {\n",
       "        text-align: right;\n",
       "    }\n",
       "</style>\n",
       "<table border=\"1\" class=\"dataframe\">\n",
       "  <thead>\n",
       "    <tr style=\"text-align: right;\">\n",
       "      <th>Asset_2_Volume</th>\n",
       "      <th>Low</th>\n",
       "      <th>Medium</th>\n",
       "      <th>High</th>\n",
       "    </tr>\n",
       "    <tr>\n",
       "      <th>Asset_1_Volume</th>\n",
       "      <th></th>\n",
       "      <th></th>\n",
       "      <th></th>\n",
       "    </tr>\n",
       "  </thead>\n",
       "  <tbody>\n",
       "    <tr>\n",
       "      <th>Low</th>\n",
       "      <td>13</td>\n",
       "      <td>14</td>\n",
       "      <td>11</td>\n",
       "    </tr>\n",
       "    <tr>\n",
       "      <th>Medium</th>\n",
       "      <td>8</td>\n",
       "      <td>8</td>\n",
       "      <td>9</td>\n",
       "    </tr>\n",
       "    <tr>\n",
       "      <th>High</th>\n",
       "      <td>14</td>\n",
       "      <td>14</td>\n",
       "      <td>9</td>\n",
       "    </tr>\n",
       "  </tbody>\n",
       "</table>\n",
       "</div>"
      ],
      "text/plain": [
       "Asset_2_Volume  Low  Medium  High\n",
       "Asset_1_Volume                   \n",
       "Low              13      14    11\n",
       "Medium            8       8     9\n",
       "High             14      14     9"
      ]
     },
     "execution_count": 13,
     "metadata": {},
     "output_type": "execute_result"
    }
   ],
   "source": [
    "contingency_table"
   ]
  },
  {
   "cell_type": "code",
   "execution_count": 21,
   "id": "d5e6c3f0-c140-4a0d-8c82-51446f30360a",
   "metadata": {},
   "outputs": [],
   "source": [
    "import matplotlib.pyplot as plt\n",
    "import seaborn as sns"
   ]
  },
  {
   "cell_type": "code",
   "execution_count": 23,
   "id": "adad57d4-bc20-45b8-b593-39870514f02d",
   "metadata": {},
   "outputs": [
    {
     "data": {
      "image/png": "[encoded data removed]",
      "text/plain": [
       "<Figure size 800x600 with 1 Axes>"
      ]
     },
     "metadata": {},
     "output_type": "display_data"
    }
   ],
   "source": [
    "plt.figure(figsize=(8, 6))\n",
    "sns.heatmap(contingency_table, annot=True, fmt='d', cmap='Blues', cbar=False)\n",
    "plt.title(\"Contingency Table Heatmap: Trading Volumes of Asset_1 vs Asset_2\")\n",
    "plt.xlabel(\"Asset_2 Volume Categories\")\n",
    "plt.ylabel(\"Asset_1 Volume Categories\")\n",
    "plt.show()\n",
    "\n"
   ]
  },
  {
   "cell_type": "code",
   "execution_count": null,
   "id": "169a44d7-7160-4932-a81c-7248e26957a1",
   "metadata": {},
   "outputs": [],
   "source": []
  }
 ],
 "metadata": {
  "kernelspec": {
   "display_name": "anaconda-panel-2023.05-py310",
   "language": "python",
   "name": "conda-env-anaconda-panel-2023.05-py310-py"
  },
  "language_info": {
   "codemirror_mode": {
    "name": "ipython",
    "version": 3
   },
   "file_extension": ".py",
   "mimetype": "text/x-python",
   "name": "python",
   "nbconvert_exporter": "python",
   "pygments_lexer": "ipython3",
   "version": "3.11.5"
  }
 },
 "nbformat": 4,
 "nbformat_minor": 5
}
